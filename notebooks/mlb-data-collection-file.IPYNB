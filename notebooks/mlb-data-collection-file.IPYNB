{
 "metadata": {
  "language_info": {
   "codemirror_mode": {
    "name": "ipython",
    "version": 3
   },
   "file_extension": ".py",
   "mimetype": "text/x-python",
   "name": "python",
   "nbconvert_exporter": "python",
   "pygments_lexer": "ipython3",
   "version": "3.7.7"
  },
  "orig_nbformat": 2,
  "kernelspec": {
   "name": "python377jvsc74a57bd030ac9f6690a0bcb143d50a90b4ccb301a0ef3faf475214ad9c0ca24305173069",
   "display_name": "Python 3.7.7 64-bit ('python': conda)"
  }
 },
 "nbformat": 4,
 "nbformat_minor": 2,
 "cells": [
  {
   "cell_type": "code",
   "execution_count": 96,
   "metadata": {},
   "outputs": [],
   "source": [
    "import os\n",
    "import sys\n",
    "import numpy as np\n",
    "import pandas as pd\n",
    "import matplotlib.pyplot as plt\n",
    "\n",
    "from src.utils.utility import *\n",
    "\n",
    "%matplotlib inline"
   ]
  },
  {
   "cell_type": "code",
   "execution_count": 97,
   "metadata": {},
   "outputs": [],
   "source": [
    "# this blog of code allows me to import my secrets file from the conf folder in my \n",
    "# current jupyter notebook\n",
    "root_dir = os.path.join(os.getcwd(), '..')\n",
    "sys.path.append(root_dir)\n",
    "\n",
    "src_dir = os.path.join(os.getcwd(), '..', 'src', 'data' )\n",
    "sys.path.append(src_dir)"
   ]
  },
  {
   "cell_type": "code",
   "execution_count": 81,
   "metadata": {},
   "outputs": [],
   "source": [
    "from make_dataset import *"
   ]
  },
  {
   "cell_type": "code",
   "execution_count": 98,
   "metadata": {},
   "outputs": [],
   "source": [
    "from dotenv import load_dotenv, find_dotenv"
   ]
  },
  {
   "cell_type": "code",
   "execution_count": 99,
   "metadata": {},
   "outputs": [],
   "source": [
    "# find .env automatically by walking up directories until it's found\n",
    "dotenv_path = find_dotenv()\n",
    "# load up the entries as environment variables\n",
    "load_dotenv(dotenv_path)\n",
    "\n",
    "ALPHA_VANTAGE_KEY= os.environ.get(\"ALPHA_VANTAGE_KEY\")\n",
    "# Download data as CSV from API \n",
    "function = 'TIME_SERIES_DAILY_ADJUSTED'\n",
    "symbol = 'MSFT'\n",
    "datatype = 'csv'\n",
    "url = f\"https://www.alphavantage.co/query?function={function}&symbol={symbol}&datatype={datatype}&apikey={ALPHA_VANTAGE_KEY}\"\n",
    "\n",
    "msft_raw = pd.read_csv(url)\n",
    "\n",
    "# before making any changes save this to raw data folder\n",
    "msft_raw.to_csv('../data/raw/msft_raw.csv', index=False)"
   ]
  },
  {
   "cell_type": "code",
   "execution_count": 100,
   "metadata": {},
   "outputs": [
    {
     "output_type": "execute_result",
     "data": {
      "text/plain": [
       "     timestamp     open      high      low   close  adjusted_close    volume  \\\n",
       "0   2021-05-03  253.400  254.3500  251.120  251.86      251.860000  19626568   \n",
       "1   2021-04-30  249.740  253.0800  249.600  252.18      252.180000  30945098   \n",
       "2   2021-04-29  255.460  256.1000  249.000  252.51      252.510000  40589023   \n",
       "3   2021-04-28  256.078  256.5399  252.950  254.56      254.560000  46903119   \n",
       "4   2021-04-27  261.585  263.1900  260.120  261.97      261.970000  31014213   \n",
       "..         ...      ...       ...      ...     ...             ...       ...   \n",
       "95  2020-12-14  213.100  216.2100  212.880  214.20      213.709920  28798379   \n",
       "96  2020-12-11  210.050  213.3200  209.110  213.26      212.772071  30979440   \n",
       "97  2020-12-10  211.770  213.0800  210.360  210.52      210.038340  26467017   \n",
       "98  2020-12-09  215.160  215.2250  211.214  211.80      211.315411  32440603   \n",
       "99  2020-12-08  213.970  216.9500  212.890  216.01      215.515779  23284094   \n",
       "\n",
       "    dividend_amount  split_coefficient  \n",
       "0               0.0                1.0  \n",
       "1               0.0                1.0  \n",
       "2               0.0                1.0  \n",
       "3               0.0                1.0  \n",
       "4               0.0                1.0  \n",
       "..              ...                ...  \n",
       "95              0.0                1.0  \n",
       "96              0.0                1.0  \n",
       "97              0.0                1.0  \n",
       "98              0.0                1.0  \n",
       "99              0.0                1.0  \n",
       "\n",
       "[100 rows x 9 columns]"
      ],
      "text/html": "<div>\n<style scoped>\n    .dataframe tbody tr th:only-of-type {\n        vertical-align: middle;\n    }\n\n    .dataframe tbody tr th {\n        vertical-align: top;\n    }\n\n    .dataframe thead th {\n        text-align: right;\n    }\n</style>\n<table border=\"1\" class=\"dataframe\">\n  <thead>\n    <tr style=\"text-align: right;\">\n      <th></th>\n      <th>timestamp</th>\n      <th>open</th>\n      <th>high</th>\n      <th>low</th>\n      <th>close</th>\n      <th>adjusted_close</th>\n      <th>volume</th>\n      <th>dividend_amount</th>\n      <th>split_coefficient</th>\n    </tr>\n  </thead>\n  <tbody>\n    <tr>\n      <th>0</th>\n      <td>2021-05-03</td>\n      <td>253.400</td>\n      <td>254.3500</td>\n      <td>251.120</td>\n      <td>251.86</td>\n      <td>251.860000</td>\n      <td>19626568</td>\n      <td>0.0</td>\n      <td>1.0</td>\n    </tr>\n    <tr>\n      <th>1</th>\n      <td>2021-04-30</td>\n      <td>249.740</td>\n      <td>253.0800</td>\n      <td>249.600</td>\n      <td>252.18</td>\n      <td>252.180000</td>\n      <td>30945098</td>\n      <td>0.0</td>\n      <td>1.0</td>\n    </tr>\n    <tr>\n      <th>2</th>\n      <td>2021-04-29</td>\n      <td>255.460</td>\n      <td>256.1000</td>\n      <td>249.000</td>\n      <td>252.51</td>\n      <td>252.510000</td>\n      <td>40589023</td>\n      <td>0.0</td>\n      <td>1.0</td>\n    </tr>\n    <tr>\n      <th>3</th>\n      <td>2021-04-28</td>\n      <td>256.078</td>\n      <td>256.5399</td>\n      <td>252.950</td>\n      <td>254.56</td>\n      <td>254.560000</td>\n      <td>46903119</td>\n      <td>0.0</td>\n      <td>1.0</td>\n    </tr>\n    <tr>\n      <th>4</th>\n      <td>2021-04-27</td>\n      <td>261.585</td>\n      <td>263.1900</td>\n      <td>260.120</td>\n      <td>261.97</td>\n      <td>261.970000</td>\n      <td>31014213</td>\n      <td>0.0</td>\n      <td>1.0</td>\n    </tr>\n    <tr>\n      <th>...</th>\n      <td>...</td>\n      <td>...</td>\n      <td>...</td>\n      <td>...</td>\n      <td>...</td>\n      <td>...</td>\n      <td>...</td>\n      <td>...</td>\n      <td>...</td>\n    </tr>\n    <tr>\n      <th>95</th>\n      <td>2020-12-14</td>\n      <td>213.100</td>\n      <td>216.2100</td>\n      <td>212.880</td>\n      <td>214.20</td>\n      <td>213.709920</td>\n      <td>28798379</td>\n      <td>0.0</td>\n      <td>1.0</td>\n    </tr>\n    <tr>\n      <th>96</th>\n      <td>2020-12-11</td>\n      <td>210.050</td>\n      <td>213.3200</td>\n      <td>209.110</td>\n      <td>213.26</td>\n      <td>212.772071</td>\n      <td>30979440</td>\n      <td>0.0</td>\n      <td>1.0</td>\n    </tr>\n    <tr>\n      <th>97</th>\n      <td>2020-12-10</td>\n      <td>211.770</td>\n      <td>213.0800</td>\n      <td>210.360</td>\n      <td>210.52</td>\n      <td>210.038340</td>\n      <td>26467017</td>\n      <td>0.0</td>\n      <td>1.0</td>\n    </tr>\n    <tr>\n      <th>98</th>\n      <td>2020-12-09</td>\n      <td>215.160</td>\n      <td>215.2250</td>\n      <td>211.214</td>\n      <td>211.80</td>\n      <td>211.315411</td>\n      <td>32440603</td>\n      <td>0.0</td>\n      <td>1.0</td>\n    </tr>\n    <tr>\n      <th>99</th>\n      <td>2020-12-08</td>\n      <td>213.970</td>\n      <td>216.9500</td>\n      <td>212.890</td>\n      <td>216.01</td>\n      <td>215.515779</td>\n      <td>23284094</td>\n      <td>0.0</td>\n      <td>1.0</td>\n    </tr>\n  </tbody>\n</table>\n<p>100 rows × 9 columns</p>\n</div>"
     },
     "metadata": {},
     "execution_count": 100
    }
   ],
   "source": [
    "msft_raw"
   ]
  },
  {
   "cell_type": "code",
   "execution_count": 57,
   "metadata": {},
   "outputs": [
    {
     "output_type": "execute_result",
     "data": {
      "text/plain": [
       "     timestamp     open      high      low   close  adjusted_close    volume  \\\n",
       "0   2021-05-03  253.400  254.3500  251.120  251.86      251.860000  19626568   \n",
       "1   2021-04-30  249.740  253.0800  249.600  252.18      252.180000  30945098   \n",
       "2   2021-04-29  255.460  256.1000  249.000  252.51      252.510000  40589023   \n",
       "3   2021-04-28  256.078  256.5399  252.950  254.56      254.560000  46903119   \n",
       "4   2021-04-27  261.585  263.1900  260.120  261.97      261.970000  31014213   \n",
       "..         ...      ...       ...      ...     ...             ...       ...   \n",
       "95  2020-12-14  213.100  216.2100  212.880  214.20      213.709920  28798379   \n",
       "96  2020-12-11  210.050  213.3200  209.110  213.26      212.772071  30979440   \n",
       "97  2020-12-10  211.770  213.0800  210.360  210.52      210.038340  26467017   \n",
       "98  2020-12-09  215.160  215.2250  211.214  211.80      211.315411  32440603   \n",
       "99  2020-12-08  213.970  216.9500  212.890  216.01      215.515779  23284094   \n",
       "\n",
       "    dividend_amount  split_coefficient  \n",
       "0               0.0                1.0  \n",
       "1               0.0                1.0  \n",
       "2               0.0                1.0  \n",
       "3               0.0                1.0  \n",
       "4               0.0                1.0  \n",
       "..              ...                ...  \n",
       "95              0.0                1.0  \n",
       "96              0.0                1.0  \n",
       "97              0.0                1.0  \n",
       "98              0.0                1.0  \n",
       "99              0.0                1.0  \n",
       "\n",
       "[100 rows x 9 columns]"
      ],
      "text/html": "<div>\n<style scoped>\n    .dataframe tbody tr th:only-of-type {\n        vertical-align: middle;\n    }\n\n    .dataframe tbody tr th {\n        vertical-align: top;\n    }\n\n    .dataframe thead th {\n        text-align: right;\n    }\n</style>\n<table border=\"1\" class=\"dataframe\">\n  <thead>\n    <tr style=\"text-align: right;\">\n      <th></th>\n      <th>timestamp</th>\n      <th>open</th>\n      <th>high</th>\n      <th>low</th>\n      <th>close</th>\n      <th>adjusted_close</th>\n      <th>volume</th>\n      <th>dividend_amount</th>\n      <th>split_coefficient</th>\n    </tr>\n  </thead>\n  <tbody>\n    <tr>\n      <th>0</th>\n      <td>2021-05-03</td>\n      <td>253.400</td>\n      <td>254.3500</td>\n      <td>251.120</td>\n      <td>251.86</td>\n      <td>251.860000</td>\n      <td>19626568</td>\n      <td>0.0</td>\n      <td>1.0</td>\n    </tr>\n    <tr>\n      <th>1</th>\n      <td>2021-04-30</td>\n      <td>249.740</td>\n      <td>253.0800</td>\n      <td>249.600</td>\n      <td>252.18</td>\n      <td>252.180000</td>\n      <td>30945098</td>\n      <td>0.0</td>\n      <td>1.0</td>\n    </tr>\n    <tr>\n      <th>2</th>\n      <td>2021-04-29</td>\n      <td>255.460</td>\n      <td>256.1000</td>\n      <td>249.000</td>\n      <td>252.51</td>\n      <td>252.510000</td>\n      <td>40589023</td>\n      <td>0.0</td>\n      <td>1.0</td>\n    </tr>\n    <tr>\n      <th>3</th>\n      <td>2021-04-28</td>\n      <td>256.078</td>\n      <td>256.5399</td>\n      <td>252.950</td>\n      <td>254.56</td>\n      <td>254.560000</td>\n      <td>46903119</td>\n      <td>0.0</td>\n      <td>1.0</td>\n    </tr>\n    <tr>\n      <th>4</th>\n      <td>2021-04-27</td>\n      <td>261.585</td>\n      <td>263.1900</td>\n      <td>260.120</td>\n      <td>261.97</td>\n      <td>261.970000</td>\n      <td>31014213</td>\n      <td>0.0</td>\n      <td>1.0</td>\n    </tr>\n    <tr>\n      <th>...</th>\n      <td>...</td>\n      <td>...</td>\n      <td>...</td>\n      <td>...</td>\n      <td>...</td>\n      <td>...</td>\n      <td>...</td>\n      <td>...</td>\n      <td>...</td>\n    </tr>\n    <tr>\n      <th>95</th>\n      <td>2020-12-14</td>\n      <td>213.100</td>\n      <td>216.2100</td>\n      <td>212.880</td>\n      <td>214.20</td>\n      <td>213.709920</td>\n      <td>28798379</td>\n      <td>0.0</td>\n      <td>1.0</td>\n    </tr>\n    <tr>\n      <th>96</th>\n      <td>2020-12-11</td>\n      <td>210.050</td>\n      <td>213.3200</td>\n      <td>209.110</td>\n      <td>213.26</td>\n      <td>212.772071</td>\n      <td>30979440</td>\n      <td>0.0</td>\n      <td>1.0</td>\n    </tr>\n    <tr>\n      <th>97</th>\n      <td>2020-12-10</td>\n      <td>211.770</td>\n      <td>213.0800</td>\n      <td>210.360</td>\n      <td>210.52</td>\n      <td>210.038340</td>\n      <td>26467017</td>\n      <td>0.0</td>\n      <td>1.0</td>\n    </tr>\n    <tr>\n      <th>98</th>\n      <td>2020-12-09</td>\n      <td>215.160</td>\n      <td>215.2250</td>\n      <td>211.214</td>\n      <td>211.80</td>\n      <td>211.315411</td>\n      <td>32440603</td>\n      <td>0.0</td>\n      <td>1.0</td>\n    </tr>\n    <tr>\n      <th>99</th>\n      <td>2020-12-08</td>\n      <td>213.970</td>\n      <td>216.9500</td>\n      <td>212.890</td>\n      <td>216.01</td>\n      <td>215.515779</td>\n      <td>23284094</td>\n      <td>0.0</td>\n      <td>1.0</td>\n    </tr>\n  </tbody>\n</table>\n<p>100 rows × 9 columns</p>\n</div>"
     },
     "metadata": {},
     "execution_count": 57
    }
   ],
   "source": [
    "alphavantage_api_csv_download_raw(function=\"TIME_SERIES_DAILY_ADJUSTED\", symbol=\"MSFT\", alphavantage_api_key=\"ALPHA_VANTAGE_KEY\")"
   ]
  },
  {
   "source": [
    "# import data from 'data/raw' data folder into the processing notebook\n",
    "msft_proc= pd.read_csv(os.path.join(os.getcwd(), '..', 'data/raw/msft_raw.csv'), parse_dates=['timestamp'])\n",
    "# Let's take a look at our dataset\n",
    "msft_proc.head()"
   ],
   "cell_type": "code",
   "metadata": {},
   "execution_count": 105,
   "outputs": [
    {
     "output_type": "execute_result",
     "data": {
      "text/plain": [
       "   timestamp     open      high     low   close  adjusted_close    volume  \\\n",
       "0 2021-05-03  253.400  254.3500  251.12  251.86          251.86  19626568   \n",
       "1 2021-04-30  249.740  253.0800  249.60  252.18          252.18  30945098   \n",
       "2 2021-04-29  255.460  256.1000  249.00  252.51          252.51  40589023   \n",
       "3 2021-04-28  256.078  256.5399  252.95  254.56          254.56  46903119   \n",
       "4 2021-04-27  261.585  263.1900  260.12  261.97          261.97  31014213   \n",
       "\n",
       "   dividend_amount  split_coefficient  \n",
       "0              0.0                1.0  \n",
       "1              0.0                1.0  \n",
       "2              0.0                1.0  \n",
       "3              0.0                1.0  \n",
       "4              0.0                1.0  "
      ],
      "text/html": "<div>\n<style scoped>\n    .dataframe tbody tr th:only-of-type {\n        vertical-align: middle;\n    }\n\n    .dataframe tbody tr th {\n        vertical-align: top;\n    }\n\n    .dataframe thead th {\n        text-align: right;\n    }\n</style>\n<table border=\"1\" class=\"dataframe\">\n  <thead>\n    <tr style=\"text-align: right;\">\n      <th></th>\n      <th>timestamp</th>\n      <th>open</th>\n      <th>high</th>\n      <th>low</th>\n      <th>close</th>\n      <th>adjusted_close</th>\n      <th>volume</th>\n      <th>dividend_amount</th>\n      <th>split_coefficient</th>\n    </tr>\n  </thead>\n  <tbody>\n    <tr>\n      <th>0</th>\n      <td>2021-05-03</td>\n      <td>253.400</td>\n      <td>254.3500</td>\n      <td>251.12</td>\n      <td>251.86</td>\n      <td>251.86</td>\n      <td>19626568</td>\n      <td>0.0</td>\n      <td>1.0</td>\n    </tr>\n    <tr>\n      <th>1</th>\n      <td>2021-04-30</td>\n      <td>249.740</td>\n      <td>253.0800</td>\n      <td>249.60</td>\n      <td>252.18</td>\n      <td>252.18</td>\n      <td>30945098</td>\n      <td>0.0</td>\n      <td>1.0</td>\n    </tr>\n    <tr>\n      <th>2</th>\n      <td>2021-04-29</td>\n      <td>255.460</td>\n      <td>256.1000</td>\n      <td>249.00</td>\n      <td>252.51</td>\n      <td>252.51</td>\n      <td>40589023</td>\n      <td>0.0</td>\n      <td>1.0</td>\n    </tr>\n    <tr>\n      <th>3</th>\n      <td>2021-04-28</td>\n      <td>256.078</td>\n      <td>256.5399</td>\n      <td>252.95</td>\n      <td>254.56</td>\n      <td>254.56</td>\n      <td>46903119</td>\n      <td>0.0</td>\n      <td>1.0</td>\n    </tr>\n    <tr>\n      <th>4</th>\n      <td>2021-04-27</td>\n      <td>261.585</td>\n      <td>263.1900</td>\n      <td>260.12</td>\n      <td>261.97</td>\n      <td>261.97</td>\n      <td>31014213</td>\n      <td>0.0</td>\n      <td>1.0</td>\n    </tr>\n  </tbody>\n</table>\n</div>"
     },
     "metadata": {},
     "execution_count": 105
    }
   ]
  },
  {
   "cell_type": "code",
   "execution_count": 86,
   "metadata": {},
   "outputs": [
    {
     "output_type": "stream",
     "name": "stdout",
     "text": [
      "<class 'pandas.core.frame.DataFrame'>\nRangeIndex: 100 entries, 0 to 99\nData columns (total 9 columns):\n #   Column             Non-Null Count  Dtype         \n---  ------             --------------  -----         \n 0   timestamp          100 non-null    datetime64[ns]\n 1   open               100 non-null    float64       \n 2   high               100 non-null    float64       \n 3   low                100 non-null    float64       \n 4   close              100 non-null    float64       \n 5   adjusted_close     100 non-null    float64       \n 6   volume             100 non-null    int64         \n 7   dividend_amount    100 non-null    float64       \n 8   split_coefficient  100 non-null    float64       \ndtypes: datetime64[ns](1), float64(7), int64(1)\nmemory usage: 7.2 KB\n"
     ]
    }
   ],
   "source": [
    "msft_proc.info()"
   ]
  },
  {
   "cell_type": "code",
   "execution_count": 20,
   "metadata": {},
   "outputs": [
    {
     "output_type": "execute_result",
     "data": {
      "text/plain": [
       "     volume  Friday  Monday  Thursday  Tuesday  Wednesday\n",
       "0  19626568       0       1         0        0          0\n",
       "1  30945098       1       0         0        0          0\n",
       "2  40589023       0       0         1        0          0\n",
       "3  46903119       0       0         0        0          1\n",
       "4  31014213       0       0         0        1          0"
      ],
      "text/html": "<div>\n<style scoped>\n    .dataframe tbody tr th:only-of-type {\n        vertical-align: middle;\n    }\n\n    .dataframe tbody tr th {\n        vertical-align: top;\n    }\n\n    .dataframe thead th {\n        text-align: right;\n    }\n</style>\n<table border=\"1\" class=\"dataframe\">\n  <thead>\n    <tr style=\"text-align: right;\">\n      <th></th>\n      <th>volume</th>\n      <th>Friday</th>\n      <th>Monday</th>\n      <th>Thursday</th>\n      <th>Tuesday</th>\n      <th>Wednesday</th>\n    </tr>\n  </thead>\n  <tbody>\n    <tr>\n      <th>0</th>\n      <td>19626568</td>\n      <td>0</td>\n      <td>1</td>\n      <td>0</td>\n      <td>0</td>\n      <td>0</td>\n    </tr>\n    <tr>\n      <th>1</th>\n      <td>30945098</td>\n      <td>1</td>\n      <td>0</td>\n      <td>0</td>\n      <td>0</td>\n      <td>0</td>\n    </tr>\n    <tr>\n      <th>2</th>\n      <td>40589023</td>\n      <td>0</td>\n      <td>0</td>\n      <td>1</td>\n      <td>0</td>\n      <td>0</td>\n    </tr>\n    <tr>\n      <th>3</th>\n      <td>46903119</td>\n      <td>0</td>\n      <td>0</td>\n      <td>0</td>\n      <td>0</td>\n      <td>1</td>\n    </tr>\n    <tr>\n      <th>4</th>\n      <td>31014213</td>\n      <td>0</td>\n      <td>0</td>\n      <td>0</td>\n      <td>1</td>\n      <td>0</td>\n    </tr>\n  </tbody>\n</table>\n</div>"
     },
     "metadata": {},
     "execution_count": 20
    }
   ],
   "source": [
    "# Build features\n",
    "# Add days of the week \n",
    "msft_proc['day_of_week'] = msft_proc['timestamp'].dt.day_name()\n",
    "\n",
    "# create dummy variables\n",
    "\n",
    "dummies= pd.get_dummies(msft_proc['day_of_week'])\n",
    "\n",
    "# drop original days of the week column from the original dataframe\n",
    "msft_proc.drop('day_of_week', axis=1, inplace=True)\n",
    "\n",
    "# add two dataframes together\n",
    "msft_proc= pd.concat([msft_proc, dummies], axis= 1)\n",
    "\n",
    "# we are only interested in running a regression of volume against the dummy variables \n",
    "# for days of the week. Because of this we will drop the remaining variables before \n",
    "# importing it to our processed data folder\n",
    "msft_proc.drop(columns=['timestamp', 'open', 'high', 'low', 'close', \n",
    "                        'adjusted_close','dividend_amount', 'split_coefficient'], \n",
    "               inplace=True)\n",
    "msft_proc.head()\n"
   ]
  },
  {
   "source": [
    "msft_proc"
   ],
   "cell_type": "code",
   "metadata": {},
   "execution_count": 109,
   "outputs": [
    {
     "output_type": "execute_result",
     "data": {
      "text/plain": [
       "    timestamp     open      high      low   close  adjusted_close    volume  \\\n",
       "0  2021-05-03  253.400  254.3500  251.120  251.86      251.860000  19626568   \n",
       "1  2021-04-30  249.740  253.0800  249.600  252.18      252.180000  30945098   \n",
       "2  2021-04-29  255.460  256.1000  249.000  252.51      252.510000  40589023   \n",
       "3  2021-04-28  256.078  256.5399  252.950  254.56      254.560000  46903119   \n",
       "4  2021-04-27  261.585  263.1900  260.120  261.97      261.970000  31014213   \n",
       "..        ...      ...       ...      ...     ...             ...       ...   \n",
       "95 2020-12-14  213.100  216.2100  212.880  214.20      213.709920  28798379   \n",
       "96 2020-12-11  210.050  213.3200  209.110  213.26      212.772071  30979440   \n",
       "97 2020-12-10  211.770  213.0800  210.360  210.52      210.038340  26467017   \n",
       "98 2020-12-09  215.160  215.2250  211.214  211.80      211.315411  32440603   \n",
       "99 2020-12-08  213.970  216.9500  212.890  216.01      215.515779  23284094   \n",
       "\n",
       "    dividend_amount  split_coefficient  timestmap  \n",
       "0               0.0                1.0 2021-05-03  \n",
       "1               0.0                1.0 2021-04-30  \n",
       "2               0.0                1.0 2021-04-29  \n",
       "3               0.0                1.0 2021-04-28  \n",
       "4               0.0                1.0 2021-04-27  \n",
       "..              ...                ...        ...  \n",
       "95              0.0                1.0 2020-12-14  \n",
       "96              0.0                1.0 2020-12-11  \n",
       "97              0.0                1.0 2020-12-10  \n",
       "98              0.0                1.0 2020-12-09  \n",
       "99              0.0                1.0 2020-12-08  \n",
       "\n",
       "[100 rows x 10 columns]"
      ],
      "text/html": "<div>\n<style scoped>\n    .dataframe tbody tr th:only-of-type {\n        vertical-align: middle;\n    }\n\n    .dataframe tbody tr th {\n        vertical-align: top;\n    }\n\n    .dataframe thead th {\n        text-align: right;\n    }\n</style>\n<table border=\"1\" class=\"dataframe\">\n  <thead>\n    <tr style=\"text-align: right;\">\n      <th></th>\n      <th>timestamp</th>\n      <th>open</th>\n      <th>high</th>\n      <th>low</th>\n      <th>close</th>\n      <th>adjusted_close</th>\n      <th>volume</th>\n      <th>dividend_amount</th>\n      <th>split_coefficient</th>\n      <th>timestmap</th>\n    </tr>\n  </thead>\n  <tbody>\n    <tr>\n      <th>0</th>\n      <td>2021-05-03</td>\n      <td>253.400</td>\n      <td>254.3500</td>\n      <td>251.120</td>\n      <td>251.86</td>\n      <td>251.860000</td>\n      <td>19626568</td>\n      <td>0.0</td>\n      <td>1.0</td>\n      <td>2021-05-03</td>\n    </tr>\n    <tr>\n      <th>1</th>\n      <td>2021-04-30</td>\n      <td>249.740</td>\n      <td>253.0800</td>\n      <td>249.600</td>\n      <td>252.18</td>\n      <td>252.180000</td>\n      <td>30945098</td>\n      <td>0.0</td>\n      <td>1.0</td>\n      <td>2021-04-30</td>\n    </tr>\n    <tr>\n      <th>2</th>\n      <td>2021-04-29</td>\n      <td>255.460</td>\n      <td>256.1000</td>\n      <td>249.000</td>\n      <td>252.51</td>\n      <td>252.510000</td>\n      <td>40589023</td>\n      <td>0.0</td>\n      <td>1.0</td>\n      <td>2021-04-29</td>\n    </tr>\n    <tr>\n      <th>3</th>\n      <td>2021-04-28</td>\n      <td>256.078</td>\n      <td>256.5399</td>\n      <td>252.950</td>\n      <td>254.56</td>\n      <td>254.560000</td>\n      <td>46903119</td>\n      <td>0.0</td>\n      <td>1.0</td>\n      <td>2021-04-28</td>\n    </tr>\n    <tr>\n      <th>4</th>\n      <td>2021-04-27</td>\n      <td>261.585</td>\n      <td>263.1900</td>\n      <td>260.120</td>\n      <td>261.97</td>\n      <td>261.970000</td>\n      <td>31014213</td>\n      <td>0.0</td>\n      <td>1.0</td>\n      <td>2021-04-27</td>\n    </tr>\n    <tr>\n      <th>...</th>\n      <td>...</td>\n      <td>...</td>\n      <td>...</td>\n      <td>...</td>\n      <td>...</td>\n      <td>...</td>\n      <td>...</td>\n      <td>...</td>\n      <td>...</td>\n      <td>...</td>\n    </tr>\n    <tr>\n      <th>95</th>\n      <td>2020-12-14</td>\n      <td>213.100</td>\n      <td>216.2100</td>\n      <td>212.880</td>\n      <td>214.20</td>\n      <td>213.709920</td>\n      <td>28798379</td>\n      <td>0.0</td>\n      <td>1.0</td>\n      <td>2020-12-14</td>\n    </tr>\n    <tr>\n      <th>96</th>\n      <td>2020-12-11</td>\n      <td>210.050</td>\n      <td>213.3200</td>\n      <td>209.110</td>\n      <td>213.26</td>\n      <td>212.772071</td>\n      <td>30979440</td>\n      <td>0.0</td>\n      <td>1.0</td>\n      <td>2020-12-11</td>\n    </tr>\n    <tr>\n      <th>97</th>\n      <td>2020-12-10</td>\n      <td>211.770</td>\n      <td>213.0800</td>\n      <td>210.360</td>\n      <td>210.52</td>\n      <td>210.038340</td>\n      <td>26467017</td>\n      <td>0.0</td>\n      <td>1.0</td>\n      <td>2020-12-10</td>\n    </tr>\n    <tr>\n      <th>98</th>\n      <td>2020-12-09</td>\n      <td>215.160</td>\n      <td>215.2250</td>\n      <td>211.214</td>\n      <td>211.80</td>\n      <td>211.315411</td>\n      <td>32440603</td>\n      <td>0.0</td>\n      <td>1.0</td>\n      <td>2020-12-09</td>\n    </tr>\n    <tr>\n      <th>99</th>\n      <td>2020-12-08</td>\n      <td>213.970</td>\n      <td>216.9500</td>\n      <td>212.890</td>\n      <td>216.01</td>\n      <td>215.515779</td>\n      <td>23284094</td>\n      <td>0.0</td>\n      <td>1.0</td>\n      <td>2020-12-08</td>\n    </tr>\n  </tbody>\n</table>\n<p>100 rows × 10 columns</p>\n</div>"
     },
     "metadata": {},
     "execution_count": 109
    }
   ]
  },
  {
   "cell_type": "code",
   "execution_count": 112,
   "metadata": {},
   "outputs": [],
   "source": [
    "process_df= process_alphavantage_data_create_dow_dummies(msft_proc)\n",
    "process_df.drop('timestmap', inplace=True, axis= 1)"
   ]
  },
  {
   "cell_type": "code",
   "execution_count": 113,
   "metadata": {},
   "outputs": [
    {
     "output_type": "execute_result",
     "data": {
      "text/plain": [
       "      volume  Friday  Monday  Thursday  Tuesday  Wednesday\n",
       "0   19626568       0       1         0        0          0\n",
       "1   30945098       1       0         0        0          0\n",
       "2   40589023       0       0         1        0          0\n",
       "3   46903119       0       0         0        0          1\n",
       "4   31014213       0       0         0        1          0\n",
       "..       ...     ...     ...       ...      ...        ...\n",
       "95  28798379       0       1         0        0          0\n",
       "96  30979440       1       0         0        0          0\n",
       "97  26467017       0       0         1        0          0\n",
       "98  32440603       0       0         0        0          1\n",
       "99  23284094       0       0         0        1          0\n",
       "\n",
       "[100 rows x 6 columns]"
      ],
      "text/html": "<div>\n<style scoped>\n    .dataframe tbody tr th:only-of-type {\n        vertical-align: middle;\n    }\n\n    .dataframe tbody tr th {\n        vertical-align: top;\n    }\n\n    .dataframe thead th {\n        text-align: right;\n    }\n</style>\n<table border=\"1\" class=\"dataframe\">\n  <thead>\n    <tr style=\"text-align: right;\">\n      <th></th>\n      <th>volume</th>\n      <th>Friday</th>\n      <th>Monday</th>\n      <th>Thursday</th>\n      <th>Tuesday</th>\n      <th>Wednesday</th>\n    </tr>\n  </thead>\n  <tbody>\n    <tr>\n      <th>0</th>\n      <td>19626568</td>\n      <td>0</td>\n      <td>1</td>\n      <td>0</td>\n      <td>0</td>\n      <td>0</td>\n    </tr>\n    <tr>\n      <th>1</th>\n      <td>30945098</td>\n      <td>1</td>\n      <td>0</td>\n      <td>0</td>\n      <td>0</td>\n      <td>0</td>\n    </tr>\n    <tr>\n      <th>2</th>\n      <td>40589023</td>\n      <td>0</td>\n      <td>0</td>\n      <td>1</td>\n      <td>0</td>\n      <td>0</td>\n    </tr>\n    <tr>\n      <th>3</th>\n      <td>46903119</td>\n      <td>0</td>\n      <td>0</td>\n      <td>0</td>\n      <td>0</td>\n      <td>1</td>\n    </tr>\n    <tr>\n      <th>4</th>\n      <td>31014213</td>\n      <td>0</td>\n      <td>0</td>\n      <td>0</td>\n      <td>1</td>\n      <td>0</td>\n    </tr>\n    <tr>\n      <th>...</th>\n      <td>...</td>\n      <td>...</td>\n      <td>...</td>\n      <td>...</td>\n      <td>...</td>\n      <td>...</td>\n    </tr>\n    <tr>\n      <th>95</th>\n      <td>28798379</td>\n      <td>0</td>\n      <td>1</td>\n      <td>0</td>\n      <td>0</td>\n      <td>0</td>\n    </tr>\n    <tr>\n      <th>96</th>\n      <td>30979440</td>\n      <td>1</td>\n      <td>0</td>\n      <td>0</td>\n      <td>0</td>\n      <td>0</td>\n    </tr>\n    <tr>\n      <th>97</th>\n      <td>26467017</td>\n      <td>0</td>\n      <td>0</td>\n      <td>1</td>\n      <td>0</td>\n      <td>0</td>\n    </tr>\n    <tr>\n      <th>98</th>\n      <td>32440603</td>\n      <td>0</td>\n      <td>0</td>\n      <td>0</td>\n      <td>0</td>\n      <td>1</td>\n    </tr>\n    <tr>\n      <th>99</th>\n      <td>23284094</td>\n      <td>0</td>\n      <td>0</td>\n      <td>0</td>\n      <td>1</td>\n      <td>0</td>\n    </tr>\n  </tbody>\n</table>\n<p>100 rows × 6 columns</p>\n</div>"
     },
     "metadata": {},
     "execution_count": 113
    }
   ],
   "source": [
    "process_df"
   ]
  },
  {
   "cell_type": "code",
   "execution_count": 114,
   "metadata": {},
   "outputs": [],
   "source": [
    "# Let's save our file\n",
    "process_df.to_csv(\"../data/processed/msft_process.csv\", index= False)"
   ]
  },
  {
   "cell_type": "code",
   "execution_count": 88,
   "metadata": {},
   "outputs": [
    {
     "output_type": "execute_result",
     "data": {
      "text/plain": [
       "    timestamp     open      high      low   close  adjusted_close    volume  \\\n",
       "0  2021-05-03  253.400  254.3500  251.120  251.86      251.860000  19626568   \n",
       "1  2021-04-30  249.740  253.0800  249.600  252.18      252.180000  30945098   \n",
       "2  2021-04-29  255.460  256.1000  249.000  252.51      252.510000  40589023   \n",
       "3  2021-04-28  256.078  256.5399  252.950  254.56      254.560000  46903119   \n",
       "4  2021-04-27  261.585  263.1900  260.120  261.97      261.970000  31014213   \n",
       "..        ...      ...       ...      ...     ...             ...       ...   \n",
       "95 2020-12-14  213.100  216.2100  212.880  214.20      213.709920  28798379   \n",
       "96 2020-12-11  210.050  213.3200  209.110  213.26      212.772071  30979440   \n",
       "97 2020-12-10  211.770  213.0800  210.360  210.52      210.038340  26467017   \n",
       "98 2020-12-09  215.160  215.2250  211.214  211.80      211.315411  32440603   \n",
       "99 2020-12-08  213.970  216.9500  212.890  216.01      215.515779  23284094   \n",
       "\n",
       "    dividend_amount  split_coefficient  timestmap  \n",
       "0               0.0                1.0 2021-05-03  \n",
       "1               0.0                1.0 2021-04-30  \n",
       "2               0.0                1.0 2021-04-29  \n",
       "3               0.0                1.0 2021-04-28  \n",
       "4               0.0                1.0 2021-04-27  \n",
       "..              ...                ...        ...  \n",
       "95              0.0                1.0 2020-12-14  \n",
       "96              0.0                1.0 2020-12-11  \n",
       "97              0.0                1.0 2020-12-10  \n",
       "98              0.0                1.0 2020-12-09  \n",
       "99              0.0                1.0 2020-12-08  \n",
       "\n",
       "[100 rows x 10 columns]"
      ],
      "text/html": "<div>\n<style scoped>\n    .dataframe tbody tr th:only-of-type {\n        vertical-align: middle;\n    }\n\n    .dataframe tbody tr th {\n        vertical-align: top;\n    }\n\n    .dataframe thead th {\n        text-align: right;\n    }\n</style>\n<table border=\"1\" class=\"dataframe\">\n  <thead>\n    <tr style=\"text-align: right;\">\n      <th></th>\n      <th>timestamp</th>\n      <th>open</th>\n      <th>high</th>\n      <th>low</th>\n      <th>close</th>\n      <th>adjusted_close</th>\n      <th>volume</th>\n      <th>dividend_amount</th>\n      <th>split_coefficient</th>\n      <th>timestmap</th>\n    </tr>\n  </thead>\n  <tbody>\n    <tr>\n      <th>0</th>\n      <td>2021-05-03</td>\n      <td>253.400</td>\n      <td>254.3500</td>\n      <td>251.120</td>\n      <td>251.86</td>\n      <td>251.860000</td>\n      <td>19626568</td>\n      <td>0.0</td>\n      <td>1.0</td>\n      <td>2021-05-03</td>\n    </tr>\n    <tr>\n      <th>1</th>\n      <td>2021-04-30</td>\n      <td>249.740</td>\n      <td>253.0800</td>\n      <td>249.600</td>\n      <td>252.18</td>\n      <td>252.180000</td>\n      <td>30945098</td>\n      <td>0.0</td>\n      <td>1.0</td>\n      <td>2021-04-30</td>\n    </tr>\n    <tr>\n      <th>2</th>\n      <td>2021-04-29</td>\n      <td>255.460</td>\n      <td>256.1000</td>\n      <td>249.000</td>\n      <td>252.51</td>\n      <td>252.510000</td>\n      <td>40589023</td>\n      <td>0.0</td>\n      <td>1.0</td>\n      <td>2021-04-29</td>\n    </tr>\n    <tr>\n      <th>3</th>\n      <td>2021-04-28</td>\n      <td>256.078</td>\n      <td>256.5399</td>\n      <td>252.950</td>\n      <td>254.56</td>\n      <td>254.560000</td>\n      <td>46903119</td>\n      <td>0.0</td>\n      <td>1.0</td>\n      <td>2021-04-28</td>\n    </tr>\n    <tr>\n      <th>4</th>\n      <td>2021-04-27</td>\n      <td>261.585</td>\n      <td>263.1900</td>\n      <td>260.120</td>\n      <td>261.97</td>\n      <td>261.970000</td>\n      <td>31014213</td>\n      <td>0.0</td>\n      <td>1.0</td>\n      <td>2021-04-27</td>\n    </tr>\n    <tr>\n      <th>...</th>\n      <td>...</td>\n      <td>...</td>\n      <td>...</td>\n      <td>...</td>\n      <td>...</td>\n      <td>...</td>\n      <td>...</td>\n      <td>...</td>\n      <td>...</td>\n      <td>...</td>\n    </tr>\n    <tr>\n      <th>95</th>\n      <td>2020-12-14</td>\n      <td>213.100</td>\n      <td>216.2100</td>\n      <td>212.880</td>\n      <td>214.20</td>\n      <td>213.709920</td>\n      <td>28798379</td>\n      <td>0.0</td>\n      <td>1.0</td>\n      <td>2020-12-14</td>\n    </tr>\n    <tr>\n      <th>96</th>\n      <td>2020-12-11</td>\n      <td>210.050</td>\n      <td>213.3200</td>\n      <td>209.110</td>\n      <td>213.26</td>\n      <td>212.772071</td>\n      <td>30979440</td>\n      <td>0.0</td>\n      <td>1.0</td>\n      <td>2020-12-11</td>\n    </tr>\n    <tr>\n      <th>97</th>\n      <td>2020-12-10</td>\n      <td>211.770</td>\n      <td>213.0800</td>\n      <td>210.360</td>\n      <td>210.52</td>\n      <td>210.038340</td>\n      <td>26467017</td>\n      <td>0.0</td>\n      <td>1.0</td>\n      <td>2020-12-10</td>\n    </tr>\n    <tr>\n      <th>98</th>\n      <td>2020-12-09</td>\n      <td>215.160</td>\n      <td>215.2250</td>\n      <td>211.214</td>\n      <td>211.80</td>\n      <td>211.315411</td>\n      <td>32440603</td>\n      <td>0.0</td>\n      <td>1.0</td>\n      <td>2020-12-09</td>\n    </tr>\n    <tr>\n      <th>99</th>\n      <td>2020-12-08</td>\n      <td>213.970</td>\n      <td>216.9500</td>\n      <td>212.890</td>\n      <td>216.01</td>\n      <td>215.515779</td>\n      <td>23284094</td>\n      <td>0.0</td>\n      <td>1.0</td>\n      <td>2020-12-08</td>\n    </tr>\n  </tbody>\n</table>\n<p>100 rows × 10 columns</p>\n</div>"
     },
     "metadata": {},
     "execution_count": 88
    }
   ],
   "source": [
    "msft_proc"
   ]
  },
  {
   "cell_type": "code",
   "execution_count": null,
   "metadata": {},
   "outputs": [],
   "source": []
  }
 ]
}